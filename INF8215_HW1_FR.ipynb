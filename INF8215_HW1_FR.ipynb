{
 "cells": [
  {
   "cell_type": "markdown",
   "metadata": {
    "colab_type": "text",
    "id": "7cRcaduOsoAJ"
   },
   "source": [
    "# INF 8215 - Intelligence artif.: méthodes et algorithmes \n",
    "## Automne 2018 - TP1 - Méthodes de recherche \n",
    "### Membres de l'équipe\n",
    "    - Amine BELLAHSEN 1965554\n",
    "    - Sanae LOTFI 1968682\n",
    "    - Théo Moins 1971821\n",
    "\n"
   ]
  },
  {
   "cell_type": "markdown",
   "metadata": {
    "colab_type": "text",
    "id": "GoJ5Y8SZsoAM"
   },
   "source": [
    "## LE VÉLO À MONTRÉAL\n",
    "Chaque année, Montréal accueille à peu près 10 millions de touristes. Soucieuse de la qualité de leur séjour, Tourisme Montréal a entamé un projet de développement d’une nouvelle application mobile afin d’assister les touristes lors de leurs déplacements dans la ville. Cette application a pour but d’aider l’utilisateur à planifier sa visite des importantes attractions de la ville, de la façon la plus efficace possible (ie, sur la durée la plus courte). Étant donné qu’il a été observé que le moyen de transport privilégié des touristes pour explorer Montréal est le vélo, cette application a pour but de générer des circuits cyclables de durée minimale. Plus précisément, étant donné une liste d’attractions munie de points de départ et d’arrivée, la tâche est de proposer, à chaque fois, un chemin qui passe par toutes les attractions indiquées une seule fois, qui débute au point de départ et qui s’achève au point d’arrivée et dont la durée de trajet est minimale.\n",
    "\n",
    "<img src=\"images/montreal.png\" alt=\"\" width=\"800\"/>\n",
    "\n",
    "Le travail demandé dans ce TP est de développer l’algorithme interne de l’application. Nous explorerons trois mécanismes de résolution différents :\n",
    "1. Définition et exploration naïve d’un arbre de recherche\n",
    "2. Exploration plus efficace en utilisant l’algorithme A*\n",
    "3. Optimisation locale en utilisant une métaheuristique de recherche à voisinage variable (Variable Neighborhood Search, VNS)\n",
    "\n",
    "## PRÉSENTATION DU PROBLÈME\n",
    "Une façon naturelle de représenter notre problème est d’utiliser un graphe $G=(V, A)$ dirigé et complet. Chaque sommet dans $V$ est une attraction donnée et chaque arc dans $A$ représente une piste cyclable entre deux attractions distinctes. Chaque paire de sommets $i$ et $j$ est reliée par une paire d’arcs $a_{ij}$ et $a_{ji}$ dont les poids respectifs $w(a_{ij})$ et $w(a_{ji})$ ne sont pas nécessairement égaux. Concrètement, ces poids représentent la durée du trajet d’un sommet à l’autre (ainsi, $w$ est telle que $w : A \\to\\mathbb R^+$).\n",
    "\n",
    "La liste des attractions à visiter est indiquée comme la suite $P = (p_1, ..., p_m)$ où $p_1$ et $p_m$ sont les sommets de départ et d’arrivée, respectivement.\n",
    "\n",
    "## 1. DÉFINITION ET EXPLORATION NAÏVE D’UN ARBRE DE RECHERCHE (5 points)\n",
    "Définissons un arbre de recherche $\\mathcal{T}$ où chaque nœud représente une solution partielle $S$. Soient $V(S) \\subseteq V$ et $A(S) \\subset A$ l’ensemble des sommets visités et l’ensemble des arêtes sélectionnées, respectivement. Ainsi, le coût d’une solution est donné par :\n",
    "$$g(S) = \\sum_{a \\in A(S)} w(a)$$\n",
    "\n",
    "Seule l’origine est visitée initialement. Ainsi, la racine de l’arbre de recherche contient une solution partielle vide $S_{\\textrm{root}}$ telle que $V(S_{\\textrm{root}})=\\{p_1\\}$ et $A(S_{\\textrm{root}}) = \\emptyset$.\n",
    "\n",
    "<img src=\"images/tree1.png\" alt=\"\" width=\"100\"/>\n",
    "\n",
    "À la suite de cela, les nœuds subséquents dans l’arbre sont tous créés en ajoutant, à chaque solution partielle $S$, un sommet subséquent dans $P\\backslash V(S)$ avec l’arc correspondant dans $A$ qui relie ce sommet à la dernière attraction visitée. Le sommet $p_m$ n’est ajouté qu’à la fin, lorsqu’il est le seul sommet non encore visité. Plus formellement, si on note le sommet à ajouter $c$ et le dernier sommet visité $c'$, alors la nouvelle solution partielle obtenue est $V(S) \\gets V(S) \\cup \\{c\\}$ et $A(S) \\gets A(S) \\cup \\{(c’,c)\\}$.\n",
    "\n",
    "Ci-dessous est un exemple de l’arbre étendu depuis sa racine où $c'$ = $p_1$ :\n",
    "\n",
    "<img src=\"images/tree2.png\" alt=\"\" width=\"400\"/>\n",
    "\n",
    "À la fin, les feuilles de l’arbre sont des solutions complètes :\n",
    "\n",
    "<img src=\"images/tree3.png\" alt=\"\" width=\"600\"/>\n",
    "\n",
    "### 1.1 Code\n",
    "La fonction fournie ci-dessous permet d’extraire d’un fichier un graphe qui répond aux spécifications détaillées plus haut. Cette fonction retourne une $\\texttt{ndarray}$ ($\\texttt{graph}$) de taille $|V|\\times |V|$ où $\\texttt{graph[i,j]}$ représente le temps nécessaire pour traverser la piste cyclable de $i$ vers $j$.\n",
    "\n"
   ]
  },
  {
   "cell_type": "code",
   "execution_count": 1,
   "metadata": {},
   "outputs": [],
   "source": [
    "import numpy as np\n",
    "\n",
    "def read_graph():\n",
    "    return np.loadtxt(\"montreal\", dtype='i', delimiter=',')\n",
    "\n",
    "graph = read_graph()"
   ]
  },
  {
   "cell_type": "markdown",
   "metadata": {},
   "source": [
    "Notre première tâche est de définir la classe qui représente une solution partielle. Son constructeur est donné et reçoit comme argument la liste des sommets (attractions $P$) à visiter et le graphe ($G$). Celui-ci crée la solution $S_{\\textrm{root}}$ avec les attributs suivants :\n",
    "- $\\texttt{g}$ : le coût de la solution partielle\n",
    "- $\\texttt{visited}$ : représente $V(S)$, discuté plus haut. Par définition, $\\mathtt{vistited[-1]}$ représente le dernier sommet ajouté, $ c $.\n",
    "- $\\texttt{not}\\_\\texttt{visited}$ : représente $P\\backslash V(S)$\n",
    "- $\\texttt{graph}$: représente le graphe G\n",
    "\n",
    "Ensuite, il est demandé d’implanter la méthode $\\texttt{add}$ qui mets à jour la solution partielle en ajoutant une nouvelle attraction à visiter parmi la liste $\\texttt{not}\\_\\texttt{visited}$. Cette méthode reçoit comme arguments l’index du sommet à visiter parmi $\\texttt{not}\\_\\texttt{visited}$ ainsi que le graphe courant.\n",
    "\n",
    "Implantez $\\texttt{add}$ :"
   ]
  },
  {
   "cell_type": "code",
   "execution_count": 2,
   "metadata": {},
   "outputs": [],
   "source": [
    "import copy\n",
    "\n",
    "class Solution:\n",
    "    def __init__(self, places, graph):\n",
    "        \"\"\"\n",
    "        places: a list containing the indices of attractions to visit\n",
    "        p1 = places[0]\n",
    "        pm = places[-1]\n",
    "        \"\"\"\n",
    "        self.g = 0 # current cost\n",
    "        self.h = None\n",
    "        self.graph = graph \n",
    "        self.visited = [places[0]] # list of already visited attractions\n",
    "        self.not_visited = copy.deepcopy(places[1:]) # list of attractions not yet visited\n",
    "        \n",
    "    def __𝚕𝚝__(𝚜𝚎𝚕𝚏, 𝚘𝚝𝚑𝚎𝚛):\n",
    "        \"\"\"\n",
    "        method  used to overload the comparison operator \"<\" for our objects Solution\n",
    "        It returns return true if  f(self)<f(other)\n",
    "        \"\"\"\n",
    "        return self.g + self.h < other.g + other.h\n",
    "        \n",
    "    def add(self, idx):\n",
    "        \"\"\"\n",
    "        Adds the point in position idx of not_visited list to the solution\n",
    "        \"\"\"\n",
    "        self.g += self.graph[self.visited[-1],self.not_visited[idx]]\n",
    "        self.visited.append(self.not_visited[idx])\n",
    "        del self.not_visited[idx]\n",
    "        \n",
    "    def swap(self,i,j):\n",
    "        \"\"\"\n",
    "        Swaps two visited nodes and updates the cost of the solution\n",
    "        \"\"\"\n",
    "        self.visited[i],self.visited[j] = self.visited[j],self.visited[i]\n",
    "        cout = 0\n",
    "        for k in range(len(self.visited)-1):\n",
    "            cout += self.graph[self.visited[k],self.visited[k+1]]\n",
    "        self.g = cout"
   ]
  },
  {
   "cell_type": "markdown",
   "metadata": {},
   "source": [
    "La prochaine étape est d’implanter une stratégie de parcours de l’arbre de recherche. Une première méthode simple est naïve est de mettre en œuvre une recherche en largeur ([Breadth-first search](https://moodle.polymtl.ca/pluginfile.php/444662/mod_resource/content/1/recherche_en_largeur.mp4), BFS).\n",
    "\n",
    "Implantez $\\texttt{bfs}$ qui mets en œuvre cette recherche. Elle prend en arguments le graphe courant ainsi que la liste des attractions à visiter $P$ et elle retourne la meilleure solution trouvée."
   ]
  },
  {
   "cell_type": "code",
   "execution_count": 3,
   "metadata": {},
   "outputs": [],
   "source": [
    "from queue import Queue\n",
    "\n",
    "def bfs(graph, places):\n",
    "    \"\"\"\n",
    "    Returns the best solution which spans over all attractions indicated in 'places'\n",
    "    \"\"\"\n",
    "    solution = Solution(places, graph)\n",
    "    # Creating a queue to contain the solution\n",
    "    frontiere = Queue()\n",
    "    # Adding the first node to the queue\n",
    "    frontiere.put(solution)\n",
    "    # Setting the best solution to the first node \n",
    "    best_solution = Solution(places, graph)\n",
    "    # Setting its cost to a big number\n",
    "    best_solution.g = float(\"inf\")\n",
    "    nbr_explored_nodes = 0\n",
    "    # Starting the Breadth First Search\n",
    "    while not frontiere.empty():\n",
    "        nbr_explored_nodes += 1\n",
    "        # Taking the first solution node in the queue\n",
    "        current_solution = frontiere.get()\n",
    "        # If pm is the only node that we didn't visit, we have to compare the costs\n",
    "        if len(current_solution.not_visited) == 1:\n",
    "            # Adding pm to the visited nodes\n",
    "            current_solution.add(0)\n",
    "            # If the global cost is less than the starting cost, we take it\n",
    "            if current_solution.g < best_solution.g:\n",
    "                best_solution = current_solution\n",
    "        else:\n",
    "            # we expand the current node by adding possible attractions to visit next\n",
    "            for k in current_solution.not_visited[:-1]:\n",
    "                copy_current_solution = copy.deepcopy(current_solution)\n",
    "                copy_current_solution.add(current_solution.not_visited.index(k))\n",
    "                frontiere.put(copy_current_solution)\n",
    "    print(\"The number of explored nodes is: \", nbr_explored_nodes)\n",
    "    return best_solution\n"
   ]
  },
  {
   "cell_type": "markdown",
   "metadata": {},
   "source": [
    "### 1.2 Expérimentations\n",
    "\n",
    "On propose trois exemples d’illustration pour tester notre recherche en largeur. Le premier exemple prend en compte 7 attractions, le second 10 et le dernier 11. Vu que cette recherche énumère toutes les solutions possibles, le troisième exemple risque de prendre un temps considérable à s’achever.\n",
    "\n",
    "Mettez en œuvre ces expériences et notez le nombre de nœuds explorés ainsi que le temps de calcul requis."
   ]
  },
  {
   "cell_type": "code",
   "execution_count": 4,
   "metadata": {
    "colab": {},
    "colab_type": "code",
    "id": "H1lFkJPJBcR3"
   },
   "outputs": [
    {
     "name": "stdout",
     "output_type": "stream",
     "text": [
      "The number of explored nodes is:  326\n",
      "27\n",
      "--- 0.02809739112854004 seconds ---\n"
     ]
    }
   ],
   "source": [
    "import time \n",
    "\n",
    "#test 1  --------------  OPT. SOL. = 27\n",
    "start_time = time.time()\n",
    "places=[0, 5, 13, 16, 6, 9, 4]\n",
    "sol = bfs(graph=graph, places=places)\n",
    "print(sol.g)\n",
    "print(\"--- %s seconds ---\" % (time.time() - start_time))"
   ]
  },
  {
   "cell_type": "code",
   "execution_count": 5,
   "metadata": {
    "colab": {},
    "colab_type": "code",
    "id": "Yn9mUPhBB9hv"
   },
   "outputs": [
    {
     "name": "stdout",
     "output_type": "stream",
     "text": [
      "The number of explored nodes is:  109601\n",
      "30\n",
      "--- 7.168994426727295 seconds ---\n"
     ]
    }
   ],
   "source": [
    "#test 2 -------------- OPT. SOL. = 30\n",
    "start_time = time.time()\n",
    "places=[0, 1, 4, 9, 20, 18, 16, 5, 13, 19]\n",
    "sol = bfs(graph=graph, places=places)\n",
    "print(sol.g)\n",
    "print(\"--- %s seconds ---\" % (time.time() - start_time))"
   ]
  },
  {
   "cell_type": "code",
   "execution_count": 6,
   "metadata": {},
   "outputs": [
    {
     "name": "stdout",
     "output_type": "stream",
     "text": [
      "The number of explored nodes is:  986410\n",
      "26\n",
      "--- 50.43657827377319 seconds ---\n"
     ]
    }
   ],
   "source": [
    "#test 3 -------------- OPT. SOL. = 26\n",
    "start_time = time.time()\n",
    "places=[0, 2, 7, 13, 11, 16, 15, 7, 9, 8, 4]\n",
    "sol = bfs(graph=graph, places=places)\n",
    "print(sol.g)\n",
    "print(\"--- %s seconds ---\" % (time.time() - start_time))"
   ]
  },
  {
   "cell_type": "markdown",
   "metadata": {},
   "source": [
    "## 2. RECHERCHE GUIDÉE À L’AIDE DE L’ALGORITHME A\\* (7.5 points)\n",
    "Pour notre deuxième méthode de recherche, au lieu d’énumérer toutes les solutions possibles, nous effectuons une recherche guidée à l’aide de l’algorithme A\\*. Comme vu en classe, A\\* est une recherche où les nœuds à explorer sont priorisés en fonction du coût courant d’une solution $g(S)$ ainsi que d’une estimation du coût restant vers la solution finale donné par une heuristique $h(S)$.\n",
    "\n",
    "Dans le cas d’une minimisation, $h(S)$ est une borne inférieure du coût réel restant et on priorise l’exploration des nœuds dont $f(S) = g(S)+h(S)$ est le plus petit. Avec cette méthode, la première solution complète trouvée est assurément la solution optimale.\n",
    "\n",
    "Pour une solution donnée $S$ avec un dernier sommet visité $c$, une possible fonction $h$ est telle que :\n",
    "\n",
    "$h(S) =$ Le poids du chemin le plus court entre $c$ et $p_m$ dans le sous graphe $G_S$ contenant les sommets $P\\backslash V(S) \\cup \\{c\\}$\n",
    "\n",
    "Remarque que ce chemin le plus court utilisé dans le calcul de l’estimation $h$ entre l’attraction courante et l’arrivée ne passera pas nécessairement pas tous les sommets restants.\n",
    "\n",
    "\n",
    "Notre algorithme A\\* se présente comme ceci :\n",
    "1. Définir l’arbre de recherche $\\mathcal{T}$ exactement comme auparavant. Le calcul de $h$ pour la solution initiale est inutile : c’est la seule solution qu’on a.\n",
    "2. Sélectionner le meilleur nœud candidat pour expansion. La solution partielle $S_b$ de ce nœud candidat est telle que :\n",
    "\n",
    "   $$ f(S_b) \\leq f(S) \\quad \\forall S \\in \\mathcal{T} \\qquad S_B, S \\text{ pas encore sélectionnés}$$\n",
    "\n",
    "   Si $S_b$ est une solution complète, l’algorithme s’arrête et $S_b$ est assurément la solution optimale, sinon on continue à l’étape 3.\n",
    "3. Créer des solutions subséquentes qui connectent la dernière attraction visitée à chacune des attractions restantes. Attention, on ignore l’arrivée tant que celle-ci n’est pas la seule qui reste.\n",
    " - Mettez à jour les listes des sommets visités et non visités\n",
    " - Calculez $g$ et $h$ pour chaque solution\n",
    " - Insérer la nouvelle solution partielle dans l’arbre.\n",
    "4. Répéter 2 et 3.\n",
    "\n",
    "\n",
    "### 2.1 Code\n",
    "Commençons d’abord par compléter la classe $\\texttt{Solution}$ pour prendre en compte les changements nécessaires à A\\* (on a besoin notamment d’un attribut supplémentaire pour l’estimation $h$).\n",
    "\n",
    "On verra plus tard que A\\* s’implante à l’aide d’une file de priorité (priority queue). Pour que celle-ci marche, il est nécessaire de surcharger (overload) l’opérateur de comparaison « < » relatif à nos objets $\\texttt{Solution}$. En sachant ce qui fait qu'une solution est meilleure qu’une autre pour l'exploration, implanter la méthode $\\_\\_\\texttt{lt}\\_\\_$ dans $\\texttt{Solution}$. Son prototype est $\\_\\_\\texttt{lt}\\_\\_\\texttt{(self, other)}$.\n",
    "\n",
    "Maintenant, nous devons implanter la fonction d’estimation $h$. Pour cela, on utilise l’[algorithme de Dijkstra](https://en.wikipedia.org/wiki/Dijkstra%27s_algorithm) pour trouver le chemin le plus court entre la dernière attraction visitée $c$ et l’arrivée $p_m$. Il est possible d’adapter cet algorithme pour qu’il s’arrête dès que le chemin le plus court entre c et pm est trouvé.\n",
    "\n",
    "**Prescriptions d’implantation :**\n",
    "- Appliquer Dijkstra pour trouver le chemin le plus court entre $c$ et $p_m$\n",
    "- Retourner le poids de ce chemin"
   ]
  },
  {
   "cell_type": "code",
   "execution_count": 7,
   "metadata": {
    "colab": {},
    "colab_type": "code",
    "id": "PxRTHhZmNEOB"
   },
   "outputs": [],
   "source": [
    "def fastest_path_estimation(sol):\n",
    "    \"\"\"\n",
    "    Returns the time spent on the fastest path between \n",
    "    the current vertex c and the ending vertex pm\n",
    "    \"\"\"\n",
    "    # retrieving the start node c\n",
    "    c = sol.visited[-1]\n",
    "    # retrieving the final node pm\n",
    "    pm = sol.not_visited[-1]\n",
    "    \n",
    "    # the dictionary \"nodes\" does contain the minimal distance - at a given iteration - of each node to c\n",
    "    nodes = {x:float(\"inf\") for x in sol.not_visited}\n",
    "    # the minimal distance of c to itself is zero\n",
    "    nodes[c] = 0\n",
    "    # nodes_out contains the nodes that are already explored by the djikstra method\n",
    "    nodes_out = []\n",
    "    \n",
    "    # min_dis_node represents the node that has the least distance to the node c\n",
    "    # and that is not in nodes_out\n",
    "    min_dis_node = c\n",
    "    \n",
    "    while min_dis_node != pm:\n",
    "        for (node,value) in nodes.items():\n",
    "            if node not in nodes_out:\n",
    "                # update the distance of node to c\n",
    "                nodes[node] = min(value, nodes[min_dis_node]+graph[min_dis_node,node])\n",
    "        nodes_out.append(min_dis_node)\n",
    "        if len(nodes) != len(nodes_out):\n",
    "            # choose the node with the minimal distance to c that is not in nodes_out\n",
    "            min_dis_node = min({k : nodes[k] for k in set(nodes) - set(nodes_out) }, key=nodes.get)\n",
    "            \n",
    "    return nodes[pm]"
   ]
  },
  {
   "cell_type": "markdown",
   "metadata": {
    "colab_type": "text",
    "id": "9pjLMOpju-a9"
   },
   "source": [
    "Finalement, il est temps d’implanter A\\*. On aura besoin d’une file de priorité qui retournera toujours le meilleur nœud candidat de $\\mathcal{T}$ pour l’étendre (l’opérateur surchargé de comparaison assure cela).\n",
    "\n",
    "**Prescriptions d’implantation (cf. détail des étapes de l’algorithme plus haut) :**\n",
    "- Tant que les solutions extraites de la file de priorité ne sont pas complètes :\n",
    "  *\tSélectionner et étendre le nœud extrait de la file comme détaillé plus haut\n",
    "  * Calculer $g$ et $h$ pour chaque nouvelle solution partielle obtenue\n",
    "  * Remettre ces solutions dans la file\n",
    "- Retourner la première solution complète extraite de la file (c’est la solution optimale)"
   ]
  },
  {
   "cell_type": "code",
   "execution_count": 8,
   "metadata": {
    "colab": {},
    "colab_type": "code",
    "id": "D6e45uNMvanU"
   },
   "outputs": [],
   "source": [
    "import heapq\n",
    "\n",
    "def A_star(graph, places):\n",
    "    \"\"\"\n",
    "    Performs the A* algorithm\n",
    "    \"\"\"\n",
    "\n",
    "    # blank solution\n",
    "    root = Solution(graph=graph, places=places)\n",
    "\n",
    "    # search tree T\n",
    "    T = []\n",
    "    heapq.heapify(T)\n",
    "    heapq.heappush(T, root)\n",
    "    \n",
    "    # retrieve the solution with the best f value in the tree\n",
    "    active_sol = heapq.heappop(T)\n",
    "    \n",
    "    # initiating the number of explored nodes\n",
    "    nbr_explored_nodes = 0\n",
    "    \n",
    "    # while the solution with the best f is incomplete\n",
    "    while active_sol.not_visited:\n",
    "        \n",
    "        nbr_explored_nodes += 1\n",
    "        \n",
    "        # if the active solution contains places other than pm\n",
    "        if len(active_sol.not_visited) > 1:\n",
    "            \n",
    "            for idx in range(len(active_sol.not_visited) - 1):\n",
    "                # we add possible partial solutions\n",
    "                copy_active_sol = copy.deepcopy(active_sol)\n",
    "                # creating a new partial solution by adding a new place > g is calculated\n",
    "                copy_active_sol.add(idx)\n",
    "                # calculating h\n",
    "                copy_active_sol.h = fastest_path_estimation(copy_active_sol)\n",
    "                heapq.heappush(T, copy_active_sol)\n",
    "            active_sol = heapq.heappop(T)\n",
    "            \n",
    "        # Otherwise, only the last attraction is left\n",
    "        else:\n",
    "            # we add the last attraction and return the solution\n",
    "            active_sol.add(0)\n",
    "    print(\"The number of explored nodes is: \", nbr_explored_nodes)\n",
    "    return active_sol"
   ]
  },
  {
   "cell_type": "markdown",
   "metadata": {
    "colab_type": "text",
    "id": "T2NhBa4GsoAP"
   },
   "source": [
    "### 2.2 Expérimentations\n",
    "\n",
    "On ajoute un Quatrième exemple d’exécution avec 15 attractions. Là encore, mettez en œuvre ces expériences avec le nouvel algorithme A\\* conçu et notez le nombre de nœuds explorés ainsi que le temps de calcul requis."
   ]
  },
  {
   "cell_type": "code",
   "execution_count": 9,
   "metadata": {
    "colab": {},
    "colab_type": "code",
    "id": "H1lFkJPJBcR3"
   },
   "outputs": [
    {
     "name": "stdout",
     "output_type": "stream",
     "text": [
      "The number of explored nodes is:  57\n",
      "27\n",
      "[0, 5, 13, 16, 6, 9, 4]\n",
      "--- 0.03133225440979004 seconds ---\n"
     ]
    }
   ],
   "source": [
    "#test 1  --------------  OPT. SOL. = 27\n",
    "start_time = time.time()\n",
    "places=[0, 5, 13, 16, 6, 9, 4]\n",
    "astar_sol = A_star(graph=graph, places=places)\n",
    "print(astar_sol.g)\n",
    "print(astar_sol.visited)\n",
    "print(\"--- %s seconds ---\" % (time.time() - start_time))"
   ]
  },
  {
   "cell_type": "code",
   "execution_count": 10,
   "metadata": {
    "colab": {},
    "colab_type": "code",
    "id": "Yn9mUPhBB9hv"
   },
   "outputs": [
    {
     "name": "stdout",
     "output_type": "stream",
     "text": [
      "The number of explored nodes is:  358\n",
      "30\n",
      "[0, 1, 4, 5, 9, 13, 16, 18, 20, 19]\n",
      "--- 0.11678600311279297 seconds ---\n"
     ]
    }
   ],
   "source": [
    "#test 2  --------------  OPT. SOL. = 30\n",
    "start_time = time.time()\n",
    "places=[0, 1, 4, 9, 20, 18, 16, 5, 13, 19]\n",
    "astar_sol = A_star(graph=graph, places=places)\n",
    "print(astar_sol.g)\n",
    "print(astar_sol.visited)\n",
    "print(\"--- %s seconds ---\" % (time.time() - start_time))"
   ]
  },
  {
   "cell_type": "code",
   "execution_count": 11,
   "metadata": {
    "colab": {},
    "colab_type": "code",
    "id": "ZX5SD5CRBfKg"
   },
   "outputs": [
    {
     "name": "stdout",
     "output_type": "stream",
     "text": [
      "The number of explored nodes is:  997\n",
      "26\n",
      "[0, 2, 7, 7, 9, 13, 15, 16, 11, 8, 4]\n",
      "--- 0.3290581703186035 seconds ---\n"
     ]
    }
   ],
   "source": [
    "#test 3  --------------  OPT. SOL. = 26\n",
    "start_time = time.time()\n",
    "places=[0, 2, 7, 13, 11, 16, 15, 7, 9, 8, 4]\n",
    "astar_sol = A_star(graph=graph, places=places)\n",
    "print(astar_sol.g)\n",
    "print(astar_sol.visited)\n",
    "print(\"--- %s seconds ---\" % (time.time() - start_time))"
   ]
  },
  {
   "cell_type": "code",
   "execution_count": 12,
   "metadata": {},
   "outputs": [
    {
     "name": "stdout",
     "output_type": "stream",
     "text": [
      "The number of explored nodes is:  108397\n",
      "40\n",
      "[0, 3, 5, 13, 15, 18, 20, 16, 11, 12, 14, 9, 4, 2, 1]\n",
      "--- 83.80060148239136 seconds ---\n"
     ]
    }
   ],
   "source": [
    "#test 4  --------------  OPT. SOL. = 40\n",
    "start_time = time.time()\n",
    "places=[0, 2, 20, 3, 18, 12, 13, 5, 11, 16, 15, 4, 9, 14, 1]\n",
    "astar_sol = A_star(graph=graph, places=places)\n",
    "print(astar_sol.g)\n",
    "print(astar_sol.visited)\n",
    "print(\"--- %s seconds ---\" % (time.time() - start_time))"
   ]
  },
  {
   "cell_type": "markdown",
   "metadata": {},
   "source": [
    "### 2.3 Une meilleure borne inférieure\n",
    "\n",
    "Notre algorithme A\\* est déjà beaucoup plus efficace qu’une recherche naïve. Cependant, la qualité de l’heuristique $h$ a un très grand impact sur la vitesse de A\\*. Une heuristique plus serrée devrait accélérer A\\* de façon significative. Notre estimation $h$ basée sur Dijkstra est très large à cause du fait qu’elle ne considère pas toutes les attractions restantes.\n",
    "\n",
    "Une meilleure heuristique pourrait être basée sur la **Spanning Arborescence of Minimum Weight** qui s’apparente à une Minimum Spanning Tree pour graphes orientés. On propose de construire une telle Spanning Arborescence sur le reste des attractions $P\\backslash V(S) \\cup \\{c\\}$. Ici la racine est la dernière attraction visitée $c$. Une façon classique de résoudre ce problème est d’utiliser l’[algorithme de Edmonds](https://en.wikipedia.org/wiki/Edmonds%27_algorithm).\n",
    "\n",
    "Implantez cet algorithme et refaites les expériences avec A\\* en utilisant cette nouvelle heuristique :"
   ]
  },
  {
   "cell_type": "code",
   "execution_count": 13,
   "metadata": {},
   "outputs": [],
   "source": [
    "from queue import Queue\n",
    "\n",
    "def minimum_spanning_arborescence(sol):\n",
    "    \"\"\"\n",
    "    Returns the cost to reach the vertices in the unvisited list \n",
    "    \"\"\"\n",
    "    copie_sol = copy.deepcopy(sol)\n",
    "    nodes = copie_sol.not_visited\n",
    "    root = copie_sol.visited[-1]\n",
    "    \n",
    "    # creating a sub-graph for the selected univisted attractions & root\n",
    "    sous_graph = copie_sol.graph[[root]+copie_sol.not_visited][:,copie_sol.not_visited]\n",
    "    # creating an empty list of edges\n",
    "    edges = []\n",
    "    # creating an empty list of weights for the edges\n",
    "    weights = {}\n",
    "    \n",
    "    # filling edges and weights\n",
    "    for i in range(sous_graph.shape[0]):\n",
    "        for j in range(sous_graph.shape[1]):\n",
    "            if i != j+1:\n",
    "                node_i = ([root]+copie_sol.not_visited)[i]\n",
    "                node_j = copie_sol.not_visited[j]\n",
    "                edges.append((node_i,node_j))\n",
    "                weights[(node_i,node_j)] = sous_graph[i,j]\n",
    "    \n",
    "    # retrieving the minimum spanning arborescence\n",
    "    tree = min_arborescence(nodes, edges, weights, root)\n",
    "    return sum(weights[edge] for edge in tree)\n",
    "\n",
    "def min_arborescence(nodes, edges, weights, root):\n",
    "    \"\"\"\n",
    "    Recursive function that returns the edges of the minimum spanning arborescence\n",
    "    for a given graph\n",
    "    \"\"\"\n",
    "    # creating an empty dictionnary that gives minimum distance to each node\n",
    "    P = {}\n",
    "    # creating an empty dictionnary that gives the antecedant of each node with the minimum distance\n",
    "    previous_node = {}\n",
    "    # creating a dict that gives for an edge coming in the cycle the edge to be kicked out inside the cycle\n",
    "    edges_out = {}\n",
    "    \n",
    "    # __ filling P __\n",
    "    for v in nodes:\n",
    "        dist_to_v = float(\"inf\")\n",
    "        best_node = v\n",
    "        for x in (nodes+[root]):\n",
    "            if ((x,v) in edges):\n",
    "                if (x == v):\n",
    "                    P[(x,v)] = 0\n",
    "                if (weights[(x,v)] < dist_to_v and x != v):\n",
    "                    dist_to_v = weights[(x,v)]\n",
    "                    best_node = x\n",
    "        P[(best_node,v)] = dist_to_v\n",
    "        previous_node[v] = best_node\n",
    "        \n",
    "    # __ detecting the existence of in P __\n",
    "    is_cycle = False\n",
    "    for v in nodes:\n",
    "        if iscycle(nodes,P.keys(),v):\n",
    "            cycle = iscycle(nodes,P.keys(),v)\n",
    "            is_cycle = True\n",
    "            break\n",
    "    \n",
    "    # __ stop condition of the recursive algorithm __\n",
    "    if not is_cycle:\n",
    "        return list(P.keys())\n",
    "    \n",
    "    # __ creating new nodes, edges and weights to be given in the recursive call __\n",
    "    else:\n",
    "        v_c = max(nodes+[root])+1\n",
    "        new_nodes = list(set(nodes) - set(cycle)) + [v_c]\n",
    "        new_edges = []\n",
    "        new_weights = {}\n",
    "        Real={}\n",
    "        for edge in edges:\n",
    "            if (edge[0] == edge[1] and edge[1] in cycle):\n",
    "                    new_edges.append((v_c,v_c))\n",
    "                    new_weights[(v_c,v_c)] = 0\n",
    "                    Real[(v_c,v_c)] = edge\n",
    "            if (edge[0] not in cycle and edge[1] in cycle):\n",
    "                new_weight = weights[edge] - weights[(previous_node[edge[1]],edge[1])]\n",
    "                if ((edge[0],v_c) not in new_edges):\n",
    "                    new_edges.append((edge[0],v_c))\n",
    "                    new_weights[(edge[0],v_c)] = new_weight\n",
    "                    Real[(edge[0],v_c)] = edge\n",
    "                    edges_out[(edge[0],v_c)] = (previous_node[edge[1]],edge[1])\n",
    "                else:\n",
    "                    if (new_weight < new_weights[(edge[0],v_c)]):\n",
    "                        new_weights[(edge[0],v_c)] = new_weight\n",
    "                        edges_out[(edge[0],v_c)] = (previous_node[edge[1]],edge[1])\n",
    "                        Real[(edge[0],v_c)] = edge\n",
    "            elif (edge[0] in cycle and edge[1] not in cycle):\n",
    "                if ((v_c, edge[1]) not in new_edges):\n",
    "                    new_edges.append((v_c, edge[1]))\n",
    "                    new_weights[(v_c, edge[1])] = weights[edge]\n",
    "                    Real[(v_c, edge[1])] = edge\n",
    "                else:\n",
    "                    if (weights[edge] < new_weights[(v_c, edge[1])]):\n",
    "                        new_weights[(v_c, edge[1])] = weights[edge]\n",
    "                        Real[(v_c, edge[1])] = edge\n",
    "            elif (edge[0] not in cycle and edge[1] not in cycle):\n",
    "                new_edges.append(edge)\n",
    "                Real[edge] = edge\n",
    "                new_weights[edge] = weights[edge]\n",
    "                \n",
    "        # retrieving the minimum_spanning_arborescence with a recursive call\n",
    "        arbre = min_arborescence(new_nodes,new_edges,new_weights,root)\n",
    "        \n",
    "        # keep edge = edge coming in the cycle to keep\n",
    "        keep_edge = None\n",
    "        for edge in arbre:\n",
    "            if edge[1] == v_c and edge[0] != v_c:\n",
    "                keep_edge = edge[0]\n",
    "                \n",
    "        # creating the edges of the cycle\n",
    "        edge_cycle = []\n",
    "        for i in range(len(cycle) - 1):\n",
    "            edge_cycle.append((cycle[i],cycle[i+1]))\n",
    "        edge_cycle.append((cycle[-1], cycle[0]))\n",
    "        \n",
    "        # generating the final minimum_spanning_arborescence\n",
    "        if keep_edge is not None:\n",
    "            s = set([Real[e] for e in arbre] + edge_cycle) - set([edges_out[(keep_edge,v_c)]])\n",
    "        else:\n",
    "            s = set([Real[e] for e in arbre] + edge_cycle)\n",
    "        \n",
    "        return list(s)\n",
    "            \n",
    "\n",
    "def neighbors_fct(edges, node):\n",
    "    \"\"\"\n",
    "    Getting the list of next nodes\n",
    "    \"\"\"\n",
    "    neighbors = []\n",
    "    for edge in edges:\n",
    "        if edge[0] == node and edge[1] != node:\n",
    "            neighbors.append(edge[1])\n",
    "    return neighbors\n",
    "\n",
    "\n",
    "def iscycle(nodes,edges,node):\n",
    "    file = Queue()\n",
    "    # we add the initial path we have\n",
    "    file.put([node])\n",
    "    while not file.empty():\n",
    "        # we retrieve a path from the queue\n",
    "        current_path = file.get()\n",
    "        last_node = current_path[-1]\n",
    "        neighbors = neighbors_fct(edges,last_node)\n",
    "        # we check the existence of the cycle as long as neighbors is not empty\n",
    "        if neighbors:\n",
    "            for new_node in neighbors:\n",
    "                if new_node not in current_path:\n",
    "                    copy_current_path = copy.deepcopy(current_path)\n",
    "                    copy_current_path.append(new_node)\n",
    "                    file.put(copy_current_path)\n",
    "                else:\n",
    "                    cycle = current_path[current_path.index(new_node):]\n",
    "                    return cycle\n",
    "    return []"
   ]
  },
  {
   "cell_type": "code",
   "execution_count": 14,
   "metadata": {},
   "outputs": [],
   "source": [
    "import heapq\n",
    "\n",
    "def A_star_edmonds(graph, places):\n",
    "    \"\"\"\n",
    "    Performs the A* algorithm\n",
    "    \"\"\"\n",
    "\n",
    "    # blank solution\n",
    "    root = Solution(graph=graph, places=places)\n",
    "\n",
    "    # search tree T\n",
    "    T = []\n",
    "    heapq.heapify(T)\n",
    "    heapq.heappush(T, root)\n",
    "    \n",
    "    # retrieve the solution with the best f value in the tree\n",
    "    active_sol = heapq.heappop(T)\n",
    "    \n",
    "    # initiating the number of explored nodes\n",
    "    nbr_explored_nodes = 0\n",
    "    \n",
    "    # while the solution with the best f is incomplete\n",
    "    while active_sol.not_visited:\n",
    "        \n",
    "        nbr_explored_nodes += 1\n",
    "        \n",
    "        # if the active solution contains places other than pm\n",
    "        if len(active_sol.not_visited) > 1:\n",
    "            \n",
    "            for idx in range(len(active_sol.not_visited) - 1):\n",
    "                # we add possible partial solutions\n",
    "                copy_active_sol = copy.deepcopy(active_sol)\n",
    "                # creating a new partial solution by adding a new place > g is calculated\n",
    "                copy_active_sol.add(idx)\n",
    "                # calculating h\n",
    "                copy_active_sol.h = minimum_spanning_arborescence(copy_active_sol)\n",
    "                heapq.heappush(T, copy_active_sol)\n",
    "            active_sol = heapq.heappop(T)\n",
    "            \n",
    "        # Otherwise, only the last attraction is left\n",
    "        else:\n",
    "            # we add the last attraction and return the solution\n",
    "            active_sol.add(0)\n",
    "    print(\"The number of explored nodes is: \", nbr_explored_nodes)\n",
    "    return active_sol"
   ]
  },
  {
   "cell_type": "code",
   "execution_count": 15,
   "metadata": {},
   "outputs": [
    {
     "name": "stdout",
     "output_type": "stream",
     "text": [
      "The number of explored nodes is:  16\n",
      "27\n",
      "[0, 5, 13, 16, 6, 9, 4]\n",
      "--- 0.04210782051086426 seconds ---\n"
     ]
    }
   ],
   "source": [
    "#test 1  --------------  OPT. SOL. = 27\n",
    "start_time = time.time()\n",
    "places=[0, 5, 13, 16, 6, 9, 4]\n",
    "astar_sol = A_star_edmonds(graph=graph, places=places)\n",
    "print(astar_sol.g)\n",
    "print(astar_sol.visited)\n",
    "print(\"--- %s seconds ---\" % (time.time() - start_time))"
   ]
  },
  {
   "cell_type": "code",
   "execution_count": 16,
   "metadata": {},
   "outputs": [
    {
     "name": "stdout",
     "output_type": "stream",
     "text": [
      "The number of explored nodes is:  18\n",
      "30\n",
      "[0, 1, 4, 5, 9, 13, 16, 18, 20, 19]\n",
      "--- 0.06932735443115234 seconds ---\n"
     ]
    }
   ],
   "source": [
    "#test 2  --------------  OPT. SOL. = 30\n",
    "start_time = time.time()\n",
    "places=[0, 1, 4, 9, 20, 18, 16, 5, 13, 19]\n",
    "astar_sol = A_star_edmonds(graph=graph, places=places)\n",
    "print(astar_sol.g)\n",
    "print(astar_sol.visited)\n",
    "print(\"--- %s seconds ---\" % (time.time() - start_time))"
   ]
  },
  {
   "cell_type": "code",
   "execution_count": 17,
   "metadata": {},
   "outputs": [
    {
     "name": "stdout",
     "output_type": "stream",
     "text": [
      "The number of explored nodes is:  38\n",
      "26\n",
      "[0, 2, 7, 7, 9, 13, 15, 16, 11, 8, 4]\n",
      "--- 0.14925503730773926 seconds ---\n"
     ]
    }
   ],
   "source": [
    "#test 3  --------------  OPT. SOL. = 26\n",
    "start_time = time.time()\n",
    "places=[0, 2, 7, 13, 11, 16, 15, 7, 9, 8, 4]\n",
    "astar_sol = A_star_edmonds(graph=graph, places=places)\n",
    "print(astar_sol.g)\n",
    "print(astar_sol.visited)\n",
    "print(\"--- %s seconds ---\" % (time.time() - start_time))"
   ]
  },
  {
   "cell_type": "code",
   "execution_count": 18,
   "metadata": {},
   "outputs": [
    {
     "name": "stdout",
     "output_type": "stream",
     "text": [
      "The number of explored nodes is:  84\n",
      "40\n",
      "[0, 3, 9, 13, 15, 18, 20, 16, 11, 12, 14, 5, 4, 2, 1]\n",
      "--- 1.3427271842956543 seconds ---\n"
     ]
    }
   ],
   "source": [
    "# test 4  --------------  OPT. SOL. = 40\n",
    "start_time = time.time()\n",
    "places=[0, 2, 20, 3, 18, 12, 13, 5, 11, 16, 15, 4, 9, 14, 1]\n",
    "astar_sol = A_star_edmonds(graph=graph, places=places)\n",
    "print(astar_sol.g)\n",
    "print(astar_sol.visited)\n",
    "print(\"--- %s seconds ---\" % (time.time() - start_time))"
   ]
  },
  {
   "cell_type": "markdown",
   "metadata": {
    "colab_type": "text",
    "id": "r9oJnFHbxrvj"
   },
   "source": [
    "## 3. RECHERCHE LOCALE À VOISINAGE VARIABLE  (7.5 points)\n",
    "\n",
    "Cette fois-ci, au lieu de construire une solution optimale depuis une solution vide, on commence d’une solution complète, non-optimale, qu’on améliore à l’aide d’une recherche locale en utilisant une recherche locale à voisinage variable ([Variable Neighborhood Search](https://en.wikipedia.org/wiki/Variable_neighborhood_search), VNS).\n",
    "\n",
    "<img src=\"images/vns.png\" alt=\"\" width=\"800\"/>\n",
    "\n",
    "### 3.1 Code\n",
    "\n",
    "On commence par créer une solution initiale. Celle-ci est une suite ordonnée des attractions de $p_1$ à $p_m$ dans $P$. Pour cela, on fait appel à une [recherche en profondeur (Depth-First Search, DFS)](https://moodle.polymtl.ca/pluginfile.php/445484/mod_resource/content/1/recherche_en_profondeur.mp4) qu’on arrête aussitôt qu’une solution complète est trouvée. Pour aider à diversifier la recherche, la méthode permettant de générer une solution initiale peut être randomisée de telle sorte que l'algorithme VNS puisse lancer la recherche dans différentes régions de l'espace solution. Ainsi, dans la fonction DFS, la sélection de l'enfant pour continuer la recherche doit être aléatoire.\n",
    "\n",
    "**Prescriptions d’implantation :**\n",
    "- Mettre en œuvre une recherche en profondeur\n",
    "- Créer un objet $\\texttt{Solution}$ relatif à cette solution\n",
    "- Ajuster les attributs de cet objet avec les bonnes valeurs de coûts et d’attractions visitées\n",
    "- Retourner la solution trouvée."
   ]
  },
  {
   "cell_type": "code",
   "execution_count": 19,
   "metadata": {
    "colab": {},
    "colab_type": "code",
    "id": "JKx9Z-ayxzSw"
   },
   "outputs": [],
   "source": [
    "from random import shuffle, randint\n",
    "\n",
    "def initial_sol(graph, places):\n",
    "    \"\"\"\n",
    "    Return a completed initial solution\n",
    "    \"\"\"\n",
    "    # shuffling intermediate attractions\n",
    "    to_shuffle = places[1:-1]\n",
    "    shuffle(to_shuffle)\n",
    "    new_places = [places[0]] + to_shuffle + [places[-1]]\n",
    "    sol = Solution(new_places, graph)\n",
    "    # adding attractions to visit\n",
    "    for i in range(len(sol.not_visited)):\n",
    "        sol.add(0)\n",
    "    return sol"
   ]
  },
  {
   "cell_type": "markdown",
   "metadata": {
    "colab_type": "text",
    "id": "JnTFBFqvXpNz"
   },
   "source": [
    "Pour définir une VNS, il faut définir les $k_\\textrm{max}$ voisinages de recherche locale possibles. Pour notre problème, une bonne et simple répartition des voisinages est telle qu’un voisinage $k$ correspond à la permutation de $k$-paires de sommets dans $V(S)$.\n",
    "\n",
    "On appelle **shaking** l’étape de génération d’une solution dans le voisinage $k$. Le travail qui suit correspond à l’implantation de cette étape. $\\texttt{shaking}$ admet 3 arguments que sont la solution de départ, l’indice du voisinage $k$ ainsi que le graph courant.\n",
    "\n",
    "Attention, avant d’implanter $\\texttt{shaking}$, il est nécessaire de créer une méthode $\\texttt{swap}$ dans la classe $\\texttt{Solution}$. Cette méthode permet de mettre en œuvre la permutation dans une solution donnée (en mettant à jour tous les attributs nécessaires pour que la solution soit cohérente).\n",
    "\n",
    "**Prescriptions d’implantation de shaking :**\n",
    "- Sélectionner au hasard deux indices $i$ et $j$ différents et tels que $i, j \\in \\{2,...,m-1\\}$\n",
    "- Faire une copie de la solution courante et faire la permutation\n",
    "- Retourner la solution créée"
   ]
  },
  {
   "cell_type": "code",
   "execution_count": 20,
   "metadata": {
    "colab": {},
    "colab_type": "code",
    "id": "EWLAhZUlfFOZ"
   },
   "outputs": [],
   "source": [
    "import itertools\n",
    "\n",
    "def shaking(sol,k):\n",
    "    \"\"\"\n",
    "    Returns a solution on the k-th neighrboohood of sol\n",
    "    \"\"\"\n",
    "    sol_copy = copy.deepcopy(sol)\n",
    "    m = len(sol_copy.visited)\n",
    "    # retrieving possible pairs\n",
    "    pairs = list(itertools.combinations(list(range(1,m-1)), 2))\n",
    "    # shuffling pairs to add randomness\n",
    "    shuffle(pairs)\n",
    "    if len(pairs)>= k:\n",
    "        # Swapping the elements of every pair\n",
    "        for i in range(k):\n",
    "            sol_copy.swap(pairs[i][0], pairs[i][1])\n",
    "        return sol_copy\n",
    "    else:\n",
    "        print(\"Unable to find a neibghor for k = %s !\" % k)\n",
    "        return None"
   ]
  },
  {
   "cell_type": "markdown",
   "metadata": {
    "colab_type": "text",
    "id": "PD_PxV54sl1o"
   },
   "source": [
    "Une dernière étape essentielle dans une VNS est l’application d’un algorithme de recherche locale à la solution issue du shaking. Pour cela, on propose la recherche locale 2-opt. Celle-ci intervertit deux arcs dans la solution, à la recherche d’une qui est meilleure.\n",
    "\n",
    "Pour un sommet $ i $, soit $ i '$ le successeur immédiat de $ i $ dans la séquence $ V (S) $. L'algorithme 2-opt fonctionne comme suit: pour chaque paire de sommets non consécutifs $ i, j $, vérifiez si en échangeant la position des sommets $ i '$ et $ j $ entraîne une amélioration du coût de la solution. Si oui, effectuez cet échange. Ce processus se répète jusqu'à ce qu'il n'y ait plus d'échanges rentables. On réalise cette opération pour toutes les paires d’arcs éligibles à la recherche du plus petit coût.\n",
    "\n",
    "<img src=\"images/2opt.png\" alt=\"\" width=\"800\"/>\n",
    "\n",
    "<img src=\"images/2opt2.png\" alt=\"\" width=\"800\"/>\n",
    "\n",
    "\n",
    "Implantez $\\texttt{local}\\_\\texttt{search}\\_\\texttt{2opt}$. \n",
    "\n",
    "**Prescriptions d’implantation :**\n",
    "- Considérer chaque paire d’indices $i = \\{2,..,m-3\\}$ and $j = \\{i+2, m-1\\}$\n",
    "- Si l’échange donne un plus bas coût, on le réalise\n",
    "- Répéter jusqu’à optimum local."
   ]
  },
  {
   "cell_type": "code",
   "execution_count": 21,
   "metadata": {
    "colab": {},
    "colab_type": "code",
    "id": "_97d-BQV8tzt"
   },
   "outputs": [],
   "source": [
    "def swap_edges(sol,i,j):\n",
    "    \"\"\" \n",
    "    Returns the solution where the edges are swapped \n",
    "    \"\"\"\n",
    "    sol_copy = copy.deepcopy(sol)\n",
    "    sol_copy.visited[i],sol_copy.visited[j] = sol_copy.visited[j],sol_copy.visited[i]\n",
    "    to_reverse = sol_copy.visited[min(i,j):max(i,j)+1]\n",
    "    sol_copy.not_visited[min(i,j):max(i,j)+1] = sol_copy.not_visited[min(i,j):max(i,j)+1][::-1]\n",
    "    cout = 0\n",
    "    for k in range(len(sol_copy.visited)-1):\n",
    "        cout += graph[sol_copy.visited[k],sol_copy.visited[k+1]]\n",
    "    sol_copy.g = cout\n",
    "    return sol_copy\n",
    "\n",
    "def local_search_2opt(sol):\n",
    "    \"\"\"\n",
    "    Apply 2-opt local search over sol\n",
    "    \"\"\"\n",
    "    active_sol = copy.deepcopy(sol)\n",
    "    m = len(active_sol.visited)\n",
    "    pairs = list(itertools.combinations(list(range(1,m-1)), 2))\n",
    "    shuffle(pairs)\n",
    "    idx = 0\n",
    "    # Continue exploration from the first better solution\n",
    "    while idx < len(pairs):\n",
    "        i = min(pairs[idx][0],pairs[idx][1])\n",
    "        j = max(pairs[idx][0],pairs[idx][1])\n",
    "        if (1 < abs(i - j)):\n",
    "            new_sol = swap_edges(active_sol, i, j)\n",
    "            if new_sol.g < active_sol.g:\n",
    "                active_sol = new_sol\n",
    "                shuffle(pairs)\n",
    "                idx = 0\n",
    "            else:\n",
    "                idx += 1\n",
    "        else:\n",
    "            idx += 1\n",
    "\n",
    "    return active_sol"
   ]
  },
  {
   "cell_type": "markdown",
   "metadata": {
    "colab_type": "text",
    "id": "ZPG90m1g_HgA"
   },
   "source": [
    "Finalement, il est temps d'implanter notre VNS. La méthode $\\texttt{vns}$ reçoit une solution complète, le graphe courant, le nombre maximal de voisinages et un temps de calcul limite. Celle-ci retourne la solution optimale trouvée\n",
    "\n",
    "**Prescriptions d’implantation :**\n",
    "- À chaque itération, la VNS génère une solution dans le k-ème voisinage (shaking) à partir de la meilleure solution courante et applique une recherche locale 2-opt dessus\n",
    "- Si la nouvelle solution trouvée a un meilleur coût, mettre à jour la meilleure solution courante\n",
    "- Répéter le processus jusqu'à $\\texttt{t}\\_\\texttt{max}$"
   ]
  },
  {
   "cell_type": "code",
   "execution_count": 22,
   "metadata": {
    "colab": {},
    "colab_type": "code",
    "id": "ZQwCN2HB_m-q"
   },
   "outputs": [],
   "source": [
    "def vns(sol, k_max, t_max):\n",
    "    \"\"\"\n",
    "    Performs the VNS algorithm\n",
    "    \"\"\"\n",
    "    # setting the start time\n",
    "    start_time = time.time()\n",
    "    # starting from the 1st neighborhood\n",
    "    k = 1\n",
    "    # performing a 1st local search\n",
    "    active_sol = local_search_2opt(sol)\n",
    "    while (time.time() - start_time) < t_max:\n",
    "        # moving to the Kth neighborhood\n",
    "        new_sol = shaking(active_sol,k)\n",
    "        # performing a local search\n",
    "        new_sol = local_search_2opt(new_sol)\n",
    "        if new_sol.g < active_sol.g:\n",
    "            active_sol = new_sol\n",
    "            k = 1\n",
    "        elif k < k_max:\n",
    "            k += 1\n",
    "        else:\n",
    "            k = 1\n",
    "        \n",
    "    return active_sol"
   ]
  },
  {
   "cell_type": "markdown",
   "metadata": {
    "colab_type": "text",
    "id": "z5TPMN2XCkPc"
   },
   "source": [
    "### 3.2 Experiments\n",
    "\n",
    "Mettez en oeuvre la VNS sur les exemples d'illustration suivants et raportez les solutions obtenue:"
   ]
  },
  {
   "cell_type": "code",
   "execution_count": 23,
   "metadata": {
    "colab": {},
    "colab_type": "code",
    "id": "Ox0PScj5CTzq"
   },
   "outputs": [
    {
     "name": "stdout",
     "output_type": "stream",
     "text": [
      "27\n",
      "[0, 5, 13, 16, 6, 9, 4]\n",
      "--- 1.0006752014160156 seconds ---\n"
     ]
    }
   ],
   "source": [
    "# test 1  --------------  OPT. SOL. = 27\n",
    "places=[0, 5, 13, 16, 6, 9, 4]\n",
    "sol = initial_sol(graph=graph, places=places)\n",
    "start_time = time.time()\n",
    "vns_sol = vns(sol=sol, k_max=10, t_max=1)\n",
    "print(vns_sol.g)\n",
    "print(vns_sol.visited)\n",
    "print(\"--- %s seconds ---\" % (time.time() - start_time))"
   ]
  },
  {
   "cell_type": "code",
   "execution_count": 24,
   "metadata": {
    "colab": {},
    "colab_type": "code",
    "id": "a5IB2FbqCTz3"
   },
   "outputs": [
    {
     "name": "stdout",
     "output_type": "stream",
     "text": [
      "30\n",
      "[0, 1, 4, 5, 9, 13, 16, 18, 20, 19]\n",
      "--- 1.0005314350128174 seconds ---\n"
     ]
    }
   ],
   "source": [
    "#test 2  --------------  OPT. SOL. = 30\n",
    "places=[0, 1, 4, 9, 20, 18, 16, 5, 13, 19]\n",
    "sol = initial_sol(graph=graph, places=places)\n",
    "\n",
    "start_time = time.time()\n",
    "vns_sol = vns(sol=sol, k_max=10, t_max=1)\n",
    "print(vns_sol.g)\n",
    "print(vns_sol.visited)\n",
    "\n",
    "print(\"--- %s seconds ---\" % (time.time() - start_time))"
   ]
  },
  {
   "cell_type": "code",
   "execution_count": 25,
   "metadata": {
    "colab": {},
    "colab_type": "code",
    "id": "nkNwTmxPCTz9"
   },
   "outputs": [
    {
     "name": "stdout",
     "output_type": "stream",
     "text": [
      "26\n",
      "[0, 2, 7, 7, 9, 13, 15, 16, 11, 8, 4]\n",
      "--- 1.0022814273834229 seconds ---\n"
     ]
    }
   ],
   "source": [
    "# test 3  --------------  OPT. SOL. = 26\n",
    "places=[0, 2, 7, 13, 11, 16, 15, 7, 9, 8, 4]\n",
    "sol = initial_sol(graph=graph, places=places)\n",
    "\n",
    "start_time = time.time()\n",
    "vns_sol = vns(sol=sol, k_max=10, t_max=1)\n",
    "print(vns_sol.g)\n",
    "print(vns_sol.visited)\n",
    "print(\"--- %s seconds ---\" % (time.time() - start_time))"
   ]
  },
  {
   "cell_type": "code",
   "execution_count": 26,
   "metadata": {},
   "outputs": [
    {
     "name": "stdout",
     "output_type": "stream",
     "text": [
      "40\n",
      "[0, 3, 13, 15, 18, 20, 16, 11, 12, 14, 9, 5, 4, 2, 1]\n",
      "--- 1.0076885223388672 seconds ---\n"
     ]
    }
   ],
   "source": [
    "# test 4  --------------  OPT. SOL. = 40\n",
    "places=[0, 2, 20, 3, 18, 12, 13, 5, 11, 16, 15, 4, 9, 14, 1]\n",
    "sol = initial_sol(graph=graph, places=places)\n",
    "start_time = time.time()\n",
    "vns_sol = vns(sol=sol, k_max=10, t_max=1)\n",
    "print(vns_sol.g)\n",
    "print(vns_sol.visited)\n",
    "print(\"--- %s seconds ---\" % (time.time() - start_time))"
   ]
  },
  {
   "cell_type": "code",
   "execution_count": 27,
   "metadata": {},
   "outputs": [
    {
     "name": "stdout",
     "output_type": "stream",
     "text": [
      "Proportion for t_max = 1s :  70.0\n",
      "Proportion for t_max = 2s :  86.0\n"
     ]
    }
   ],
   "source": [
    "# test 5 : convergence analysis --------------  OPT. SOL. = 40\n",
    "places=[0, 2, 20, 3, 18, 12, 13, 5, 11, 16, 15, 4, 9, 14, 1]\n",
    "\n",
    "N = 50\n",
    "resu = 0\n",
    "\n",
    "for i in range(N):\n",
    "    sol = initial_sol(graph=graph, places=places)\n",
    "    vns_sol = vns(sol=sol, k_max=10, t_max=1)\n",
    "    if vns_sol.g == 40:\n",
    "        resu += 1\n",
    "print(\"Proportion for t_max = 1s : \", 100*resu/N)\n",
    "\n",
    "resu = 0\n",
    "\n",
    "for i in range(N):\n",
    "    sol = initial_sol(graph=graph, places=places)\n",
    "    vns_sol = vns(sol=sol, k_max=10, t_max=2)\n",
    "    if vns_sol.g == 40:\n",
    "        resu += 1\n",
    "print(\"Proportion for t_max = 2s : \", 100*resu/N)"
   ]
  },
  {
   "cell_type": "markdown",
   "metadata": {},
   "source": [
    "## 4. BONUS (1 point)\n",
    "\n",
    "Expliquez dans quelle situation chacun des algorithmes développés est plus approprié (prenez en compte l’évolutivité du problème)"
   ]
  },
  {
   "cell_type": "markdown",
   "metadata": {},
   "source": [
    "# Réponse\n",
    "Dans ce TP nous avons couvert trois algorithmes de recherche: Breadth-first search, A* dont on a implanté deux heuristiques et enfin l'algorithme de recherche local à voisinage variable.\n",
    "\n",
    "Nous remarquons que la méthode BFS est une méthode assez naïve dont le but est de faire une recherche en largeur puis comparer le coût global à notre arrivée à l'état final avec les autres coût globaux et prendre le meilleur, donc elle parcourt tout notre arbre. Cette méthode est facile à implanter, et marche bien avec un petit nombre de noeuds à visiter, mais nous remarquons qu'elle met beaucoup plus de temps à trouver la solution en augmentant le nombre de noeuds à visiter. \n",
    "\n",
    "L'algorithme A* est un peu plus difficile à implanter, vu qu'on a aussi besoin d'estimer la distance entre les noeuds en utilisant des heuristiques. La première heuristique a été obtenu en utilisant l'algorithme de Djikstra. Nous remarquons que cette méthode est beaucoup plus rapide que la BFS, et parcourt moins de noeuds pour trouver la solution. La deuxième heuristique a été obtenu en utilisant l'algorithme d'Edmonds. Cette heuristique permet d'approximer mieux la borne supérieure dans A* sans sur-estimer. En effet, Djikstra permet d'obtenir le chemin le plus court entre la dernière attraction visitée et pm sans forcément passer par toutes les attractions non visitées. Tandis que l'algorithme d'Edmonds assure le passage par toutes ces attractions, ce qui rend son estimation meilleure (h plus grand). Pourtant, l'algorithme d'Edmonds permet de trouver seulement une arborescence et non pas un chemin entre la dernière attraction visitée et pm, ce qui assure que cette heuristique ne sur-estime pas les coûts. La recherche d'une solution optimale est donc plus rapide et le nombre de noeuds visités est drastiquement réduit. Notons aussi que ces 2 algorithmes assurent l'optimalité de la solution trouvée (pour A*, cette optimalité est assurée lorsque l'heuristique ne sur-estime pas les coûts).\n",
    "\n",
    "On passe ensuite à une approche plus stochastique avec l'algorithme de recherche local à voisinage variable : VNS. Cet algorithme demande d'implanter une fonction qui nous permet de passer à un k-ème voisinage et une autre qui nous permet de faire une recherche locale dans un voisinage donné. En alternant entre les deux, nous augmentons nos chances de ne pas être bloqués dans un minimum local. Le VNS n'est pas difficile à implanter mais assure n'assure pas l'optimalité de la solution trouvée. Son avantage principal est qu'il nous permet de fixer sa durée d'exécution car à n'importe quel instant nous pouvons retourner une solution complète. Pourtant, il est peut être sensible à la définition du kème voisinage."
   ]
  }
 ],
 "metadata": {
  "colab": {
   "name": "tp1_2018.ipynb",
   "provenance": [],
   "version": "0.3.2"
  },
  "kernelspec": {
   "display_name": "Python 3",
   "language": "python",
   "name": "python3"
  },
  "language_info": {
   "codemirror_mode": {
    "name": "ipython",
    "version": 3
   },
   "file_extension": ".py",
   "mimetype": "text/x-python",
   "name": "python",
   "nbconvert_exporter": "python",
   "pygments_lexer": "ipython3",
   "version": "3.5.2"
  }
 },
 "nbformat": 4,
 "nbformat_minor": 1
}
